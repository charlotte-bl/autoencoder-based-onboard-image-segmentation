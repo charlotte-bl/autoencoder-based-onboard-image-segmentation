{
 "cells": [
  {
   "cell_type": "code",
   "execution_count": null,
   "id": "-o4sUfg6I6QE",
   "metadata": {
    "id": "-o4sUfg6I6QE"
   },
   "outputs": [],
   "source": [
    "from google.colab import drive\n",
    "\n",
    "drive.mount('/content/drive/')\n",
    "\n",
    "%cd \"/content/drive/MyDrive/CONSEGNA_ML/\"\n"
   ]
  },
  {
   "cell_type": "code",
   "execution_count": null,
   "id": "d72cb142",
   "metadata": {
    "id": "d72cb142"
   },
   "outputs": [],
   "source": [
    "from torch.utils.data import DataLoader, random_split\n",
    "import torchvision.transforms as T\n",
    "from torchvision import transforms\n",
    "import torch\n",
    "from torch import nn, optim\n",
    "from models import DeepLabV3, CNN_7_Layers, DeepLabV3Lite\n",
    "from tqdm import tqdm\n",
    "from utils import ImageSegmentationDatasetOneHotEncoding, ImageSegmentationDatasetLogit, color_map\n",
    "from torch.optim.lr_scheduler import ReduceLROnPlateau\n",
    "import numpy as np\n",
    "from PIL import Image\n",
    "from torchvision.transforms.functional import to_pil_image\n",
    "import matplotlib.pyplot as plt"
   ]
  },
  {
   "cell_type": "code",
   "execution_count": null,
   "id": "5833905a-66a7-4f98-bc0b-1aff8f5957a6",
   "metadata": {
    "id": "5833905a-66a7-4f98-bc0b-1aff8f5957a6"
   },
   "outputs": [],
   "source": [
    "torch.cuda.empty_cache()\n",
    "torch.cuda.reset_peak_memory_stats()"
   ]
  },
  {
   "cell_type": "markdown",
   "id": "e7834b8b",
   "metadata": {
    "id": "e7834b8b"
   },
   "source": [
    "## Load dataset"
   ]
  },
  {
   "cell_type": "code",
   "execution_count": null,
   "id": "99ebea34",
   "metadata": {
    "id": "99ebea34"
   },
   "outputs": [],
   "source": [
    "# Full dataset\n",
    "# train_dir = '../../datasets/esame_ml/train'\n",
    "train_dir = './train' # Colab\n",
    "dataset = ImageSegmentationDatasetLogit(root_dir=train_dir)\n",
    "dataloader = DataLoader(dataset, batch_size=8, shuffle=True)"
   ]
  },
  {
   "cell_type": "markdown",
   "id": "SlajvrRBE0sP",
   "metadata": {
    "id": "SlajvrRBE0sP"
   },
   "source": [
    "torchvision transforms are not designed to work on both image and label synchronously : we use a boolean to do it in the loading"
   ]
  },
  {
   "cell_type": "code",
   "execution_count": null,
   "id": "00eb963a",
   "metadata": {
    "id": "00eb963a"
   },
   "outputs": [],
   "source": [
    "# Data split\n",
    "val_percent = 0.2\n",
    "val_size = int(len(dataset) * val_percent)\n",
    "train_size = len(dataset) - val_size\n",
    "train_dataset, val_dataset = random_split(dataset, [train_size, val_size])\n",
    "train_loader = DataLoader(train_dataset, batch_size=4, shuffle=True)\n",
    "val_loader = DataLoader(val_dataset, batch_size=4, shuffle=False)"
   ]
  },
  {
   "cell_type": "markdown",
   "id": "7c29691b",
   "metadata": {
    "id": "7c29691b"
   },
   "source": [
    "## Functions for training"
   ]
  },
  {
   "cell_type": "code",
   "execution_count": null,
   "id": "15737d4d",
   "metadata": {
    "id": "15737d4d"
   },
   "outputs": [],
   "source": [
    "def train(model, dataloader, optimizer, criterion, device):\n",
    "    model.train()\n",
    "    running_loss = 0.0\n",
    "\n",
    "    loop = tqdm(dataloader, desc=\"Training\", leave=False)\n",
    "\n",
    "    for rgb, _, labels in loop:\n",
    "        rgb, labels = rgb.to(device), labels.to(device)\n",
    "\n",
    "        #targets = labels.argmax(dim=1)  # (B, C, H, W) → (B, H, W) - to keep if we use one hot encoding\n",
    "        targets=labels.long()\n",
    "\n",
    "        optimizer.zero_grad()\n",
    "        outputs = model(rgb)\n",
    "\n",
    "        loss = criterion(outputs, targets)\n",
    "        loss.backward()\n",
    "        optimizer.step()\n",
    "\n",
    "        running_loss += loss.item()\n",
    "        loop.set_postfix(loss=loss.item())\n",
    "\n",
    "    return running_loss / len(dataloader)"
   ]
  },
  {
   "cell_type": "code",
   "execution_count": null,
   "id": "ddc3fadc",
   "metadata": {
    "id": "ddc3fadc"
   },
   "outputs": [],
   "source": [
    "def evaluate(model, dataloader, criterion, device):\n",
    "    model.eval()\n",
    "    total_loss = 0.0\n",
    "    with torch.no_grad():\n",
    "        for rgb, _, labels in dataloader:\n",
    "            rgb, labels = rgb.to(device), labels.to(device)\n",
    "            #targets = labels.argmax(dim=1)\n",
    "            targets=labels.long()\n",
    "            outputs = model(rgb)\n",
    "            loss = criterion(outputs, targets)\n",
    "\n",
    "            total_loss += loss.item()\n",
    "\n",
    "    return total_loss / len(dataloader)"
   ]
  },
  {
   "cell_type": "markdown",
   "id": "R0eYz8uLE7Py",
   "metadata": {
    "id": "R0eYz8uLE7Py"
   },
   "source": [
    "shape [16, 544, 1024] vs [16, 9, 544, 1024] aka input [16, 9, 544, 1024] vs target [16, 544, 1024]\n",
    "\n",
    "normal for CE : \"Input (C), (C,N), (C,N,d_1,...,d_k)\" \"Target (), (N), (N,d_1,...,d_k)\" in the documentation\n",
    "\n",
    "CE needs class indices"
   ]
  },
  {
   "cell_type": "markdown",
   "id": "0f3b92cd",
   "metadata": {
    "id": "0f3b92cd"
   },
   "source": [
    "## Loop"
   ]
  },
  {
   "cell_type": "code",
   "execution_count": null,
   "id": "cb4c8ca3-c0c0-41a8-8f1b-4d052bed01fd",
   "metadata": {
    "id": "cb4c8ca3-c0c0-41a8-8f1b-4d052bed01fd",
    "outputId": "c8df9782-f085-4c63-be65-ddd1fc37a16e"
   },
   "outputs": [
    {
     "name": "stdout",
     "output_type": "stream",
     "text": [
      "Tensor on GPU: cuda:0\n"
     ]
    }
   ],
   "source": [
    "x = torch.randn(1, 3, 224, 224).to('cuda')\n",
    "print(\"Tensor on GPU:\", x.device)"
   ]
  },
  {
   "cell_type": "code",
   "execution_count": null,
   "id": "7b18a6d8-62c8-4d3e-a733-12b8ead8602b",
   "metadata": {
    "id": "7b18a6d8-62c8-4d3e-a733-12b8ead8602b"
   },
   "outputs": [],
   "source": [
    "#!nvidia-smi"
   ]
  },
  {
   "cell_type": "code",
   "execution_count": null,
   "id": "46f0c5c6-a961-4cef-bd85-8a781ea4f73d",
   "metadata": {
    "id": "46f0c5c6-a961-4cef-bd85-8a781ea4f73d",
    "outputId": "18299096-742f-4646-d974-7c3e361b6575"
   },
   "outputs": [
    {
     "name": "stdout",
     "output_type": "stream",
     "text": [
      "torch.Size([4, 544, 1024]) tensor(0, dtype=torch.uint8) tensor(8, dtype=torch.uint8) torch.uint8\n"
     ]
    }
   ],
   "source": [
    "for _,_, labels in train_loader:\n",
    "    print(labels.shape, labels.min(), labels.max(), labels.dtype)\n",
    "    break"
   ]
  },
  {
   "cell_type": "code",
   "execution_count": null,
   "id": "4ae4bc5c-b77a-43ba-a9f1-b2283977c8b8",
   "metadata": {
    "id": "4ae4bc5c-b77a-43ba-a9f1-b2283977c8b8"
   },
   "outputs": [],
   "source": [
    "def load_model_from_checkpoint():\n",
    "    checkpoint = torch.load('checkpoint_epoch_10.pth')\n",
    "    model.load_state_dict(checkpoint['model_state_dict'])\n",
    "    optimizer.load_state_dict(checkpoint['optimizer_state_dict'])\n",
    "    # start_epoch = checkpoint['epoch'] + 1\n",
    "    return model, start_epoch"
   ]
  },
  {
   "cell_type": "code",
   "execution_count": null,
   "id": "548a6d4b",
   "metadata": {
    "colab": {
     "base_uri": "https://localhost:8080/"
    },
    "executionInfo": {
     "elapsed": 1118,
     "status": "ok",
     "timestamp": 1751543113211,
     "user": {
      "displayName": "CHARLOTTE BOUCHERIE",
      "userId": "04341541984099217193"
     },
     "user_tz": -120
    },
    "id": "548a6d4b",
    "outputId": "4b67fb93-9bef-47f2-8dc6-3f8bedecde83"
   },
   "outputs": [
    {
     "name": "stderr",
     "output_type": "stream",
     "text": [
      "/usr/local/lib/python3.10/dist-packages/torchvision/models/_utils.py:208: UserWarning: The parameter 'pretrained' is deprecated since 0.13 and may be removed in the future, please use 'weights' instead.\n",
      "  warnings.warn(\n",
      "/usr/local/lib/python3.10/dist-packages/torchvision/models/_utils.py:223: UserWarning: Arguments other than a weight enum or `None` for 'weights' are deprecated since 0.13 and may be removed in the future. The current behavior is equivalent to passing `weights=DeepLabV3_MobileNet_V3_Large_Weights.COCO_WITH_VOC_LABELS_V1`. You can also use `weights=DeepLabV3_MobileNet_V3_Large_Weights.DEFAULT` to get the most up-to-date weights.\n",
      "  warnings.warn(msg)\n"
     ]
    }
   ],
   "source": [
    "# Hyperparameters\n",
    "EPOCHS = 15\n",
    "LR = 1e-3\n",
    "\n",
    "device = torch.device(\"cuda\" if torch.cuda.is_available() else \"cpu\")\n",
    "\n",
    "start_epoch = 0\n",
    "model = DeepLabV3Lite().to(device)\n",
    "# model, start_epoch = load_model_from_checkpoint()\n",
    "\n",
    "optimizer = optim.Adam(model.parameters(), lr=LR)\n",
    "scheduler = ReduceLROnPlateau(optimizer, mode='min', factor=0.5, patience=5)\n",
    "\n",
    "# Weights for the loss - weighted loss\n",
    "class_weights = torch.tensor([\n",
    "  class_weights[0] = 1.5      # undefined/background - white\n",
    "  class_weights[1] = 1.0      # smooth trail - grey\n",
    "  class_weights[2] = 2.0      # traversable grass - light green\n",
    "  class_weights[3] = 1.0      # rough trail - brown\n",
    "  class_weights[4] = 1.0      # puddle - pink\n",
    "  class_weights[5] = 1.0      # obstacle - red\n",
    "  class_weights[6] = 2.0      # non-traversable low vegetation - medium green\n",
    "  class_weights[7] = 1.0      # high vegetation - dark green\n",
    "  class_weights[8] = 1.0      # sky - blue\n",
    "], dtype=torch.float).to(device)\n",
    "\n",
    "# Loss\n",
    "criterion = nn.CrossEntropyLoss(weight=class_weights)\n"
   ]
  },
  {
   "cell_type": "code",
   "execution_count": null,
   "id": "6baa9e82",
   "metadata": {
    "id": "6baa9e82",
    "outputId": "058a51e7-dbe2-4ef2-b373-895a7ff030af"
   },
   "outputs": [
    {
     "name": "stderr",
     "output_type": "stream",
     "text": [
      "                                                                                                                                                                                                             "
     ]
    },
    {
     "name": "stdout",
     "output_type": "stream",
     "text": [
      "Epoch 2/50 | Train Loss: 0.9500 | Val Loss: 1.3592\n"
     ]
    },
    {
     "name": "stderr",
     "output_type": "stream",
     "text": [
      "                                                                                                                                                                                                             "
     ]
    },
    {
     "name": "stdout",
     "output_type": "stream",
     "text": [
      "Epoch 3/50 | Train Loss: 0.7451 | Val Loss: 0.7809\n"
     ]
    },
    {
     "name": "stderr",
     "output_type": "stream",
     "text": [
      "                                                                                                                                                                                                             "
     ]
    },
    {
     "name": "stdout",
     "output_type": "stream",
     "text": [
      "Epoch 4/50 | Train Loss: 0.6777 | Val Loss: 0.7496\n"
     ]
    },
    {
     "name": "stderr",
     "output_type": "stream",
     "text": [
      "                                                                                                                                                                                                             "
     ]
    },
    {
     "name": "stdout",
     "output_type": "stream",
     "text": [
      "Epoch 5/50 | Train Loss: 0.6334 | Val Loss: 0.6599\n"
     ]
    },
    {
     "name": "stderr",
     "output_type": "stream",
     "text": [
      "                                                                                                                                                                                                             "
     ]
    },
    {
     "name": "stdout",
     "output_type": "stream",
     "text": [
      "Epoch 6/50 | Train Loss: 0.6176 | Val Loss: 0.6695\n"
     ]
    },
    {
     "name": "stderr",
     "output_type": "stream",
     "text": [
      "                                                                                                                                                                                                             "
     ]
    },
    {
     "name": "stdout",
     "output_type": "stream",
     "text": [
      "Epoch 7/50 | Train Loss: 0.5792 | Val Loss: 0.6824\n"
     ]
    },
    {
     "name": "stderr",
     "output_type": "stream",
     "text": [
      "                                                                                                                                                                                                             "
     ]
    },
    {
     "name": "stdout",
     "output_type": "stream",
     "text": [
      "Epoch 8/50 | Train Loss: 0.5642 | Val Loss: 0.6404\n"
     ]
    },
    {
     "name": "stderr",
     "output_type": "stream",
     "text": [
      "                                                                                                                                                                                                             "
     ]
    },
    {
     "name": "stdout",
     "output_type": "stream",
     "text": [
      "Epoch 9/50 | Train Loss: 0.5498 | Val Loss: 0.6826\n"
     ]
    },
    {
     "name": "stderr",
     "output_type": "stream",
     "text": [
      "                                                                                                                                                                                                             "
     ]
    },
    {
     "name": "stdout",
     "output_type": "stream",
     "text": [
      "Epoch 10/50 | Train Loss: 0.5471 | Val Loss: 0.6596\n"
     ]
    },
    {
     "name": "stderr",
     "output_type": "stream",
     "text": [
      "                                                                                                                                                                                                             "
     ]
    },
    {
     "name": "stdout",
     "output_type": "stream",
     "text": [
      "Epoch 11/50 | Train Loss: 0.5086 | Val Loss: 0.6675\n"
     ]
    },
    {
     "name": "stderr",
     "output_type": "stream",
     "text": [
      "                                                                                                                                                                                                             "
     ]
    },
    {
     "name": "stdout",
     "output_type": "stream",
     "text": [
      "Epoch 12/50 | Train Loss: 0.4783 | Val Loss: 0.6801\n"
     ]
    },
    {
     "name": "stderr",
     "output_type": "stream",
     "text": [
      "                                                                                                                                                                                                             "
     ]
    },
    {
     "name": "stdout",
     "output_type": "stream",
     "text": [
      "Epoch 13/50 | Train Loss: 0.4740 | Val Loss: 0.6858\n"
     ]
    },
    {
     "name": "stderr",
     "output_type": "stream",
     "text": [
      "                                                                                                                                                                                                             "
     ]
    },
    {
     "name": "stdout",
     "output_type": "stream",
     "text": [
      "Epoch 14/50 | Train Loss: 0.4530 | Val Loss: 0.7837\n"
     ]
    },
    {
     "name": "stderr",
     "output_type": "stream",
     "text": [
      "                                                                                                                                                                                                             "
     ]
    },
    {
     "name": "stdout",
     "output_type": "stream",
     "text": [
      "Epoch 15/50 | Train Loss: 0.3807 | Val Loss: 0.6858\n"
     ]
    },
    {
     "name": "stderr",
     "output_type": "stream",
     "text": [
      "                                                                                                                                                                                                             "
     ]
    },
    {
     "name": "stdout",
     "output_type": "stream",
     "text": [
      "Epoch 16/50 | Train Loss: 0.3549 | Val Loss: 0.6969\n"
     ]
    },
    {
     "name": "stderr",
     "output_type": "stream",
     "text": [
      "                                                                                                                                                                                                             "
     ]
    },
    {
     "name": "stdout",
     "output_type": "stream",
     "text": [
      "Epoch 17/50 | Train Loss: 0.3192 | Val Loss: 0.6852\n"
     ]
    },
    {
     "name": "stderr",
     "output_type": "stream",
     "text": [
      "                                                                                                                                                                                                             "
     ]
    },
    {
     "name": "stdout",
     "output_type": "stream",
     "text": [
      "Epoch 18/50 | Train Loss: 0.3008 | Val Loss: 0.7295\n"
     ]
    },
    {
     "name": "stderr",
     "output_type": "stream",
     "text": [
      "                                                                                                                                                                                                             "
     ]
    },
    {
     "name": "stdout",
     "output_type": "stream",
     "text": [
      "Epoch 19/50 | Train Loss: 0.2823 | Val Loss: 0.7808\n"
     ]
    },
    {
     "name": "stderr",
     "output_type": "stream",
     "text": [
      "                                                                                                                                                                                                             "
     ]
    },
    {
     "name": "stdout",
     "output_type": "stream",
     "text": [
      "Epoch 20/50 | Train Loss: 0.2741 | Val Loss: 0.8263\n"
     ]
    },
    {
     "name": "stderr",
     "output_type": "stream",
     "text": [
      "                                                                                                                                                                                                             "
     ]
    },
    {
     "name": "stdout",
     "output_type": "stream",
     "text": [
      "Epoch 21/50 | Train Loss: 0.2432 | Val Loss: 0.7498\n"
     ]
    },
    {
     "name": "stderr",
     "output_type": "stream",
     "text": [
      "                                                                                                                                                                                                             "
     ]
    },
    {
     "name": "stdout",
     "output_type": "stream",
     "text": [
      "Epoch 22/50 | Train Loss: 0.2124 | Val Loss: 0.7871\n"
     ]
    },
    {
     "name": "stderr",
     "output_type": "stream",
     "text": [
      "                                                                                                                                                                                                             "
     ]
    },
    {
     "name": "stdout",
     "output_type": "stream",
     "text": [
      "Epoch 23/50 | Train Loss: 0.2089 | Val Loss: 0.7844\n"
     ]
    },
    {
     "name": "stderr",
     "output_type": "stream",
     "text": [
      "                                                                                                                                                                                                             "
     ]
    },
    {
     "name": "stdout",
     "output_type": "stream",
     "text": [
      "Epoch 24/50 | Train Loss: 0.1992 | Val Loss: 0.8026\n"
     ]
    },
    {
     "name": "stderr",
     "output_type": "stream",
     "text": [
      "                                                                                                                                                                                                             "
     ]
    },
    {
     "name": "stdout",
     "output_type": "stream",
     "text": [
      "Epoch 25/50 | Train Loss: 0.1955 | Val Loss: 0.7785\n"
     ]
    },
    {
     "name": "stderr",
     "output_type": "stream",
     "text": [
      "                                                                                                                                                                                                             "
     ]
    },
    {
     "name": "stdout",
     "output_type": "stream",
     "text": [
      "Epoch 26/50 | Train Loss: 0.1933 | Val Loss: 0.7964\n"
     ]
    },
    {
     "name": "stderr",
     "output_type": "stream",
     "text": [
      "                                                                                                                                                                                                             "
     ]
    },
    {
     "name": "stdout",
     "output_type": "stream",
     "text": [
      "Epoch 27/50 | Train Loss: 0.1691 | Val Loss: 0.7811\n"
     ]
    },
    {
     "name": "stderr",
     "output_type": "stream",
     "text": [
      "                                                                                                                                                                                                             "
     ]
    },
    {
     "name": "stdout",
     "output_type": "stream",
     "text": [
      "Epoch 28/50 | Train Loss: 0.1640 | Val Loss: 0.7857\n"
     ]
    },
    {
     "name": "stderr",
     "output_type": "stream",
     "text": [
      "                                                                                                                                                                                                             "
     ]
    },
    {
     "name": "stdout",
     "output_type": "stream",
     "text": [
      "Epoch 29/50 | Train Loss: 0.1594 | Val Loss: 0.8216\n"
     ]
    },
    {
     "name": "stderr",
     "output_type": "stream",
     "text": [
      "                                                                                                                                                                                                             "
     ]
    },
    {
     "name": "stdout",
     "output_type": "stream",
     "text": [
      "Epoch 30/50 | Train Loss: 0.1643 | Val Loss: 0.8961\n"
     ]
    },
    {
     "name": "stderr",
     "output_type": "stream",
     "text": [
      "                                                                                                                                                                                                             "
     ]
    },
    {
     "name": "stdout",
     "output_type": "stream",
     "text": [
      "Epoch 31/50 | Train Loss: 0.1648 | Val Loss: 0.8041\n"
     ]
    },
    {
     "name": "stderr",
     "output_type": "stream",
     "text": [
      "                                                                                                                                                                                                             "
     ]
    },
    {
     "name": "stdout",
     "output_type": "stream",
     "text": [
      "Epoch 32/50 | Train Loss: 0.1606 | Val Loss: 0.8347\n"
     ]
    },
    {
     "name": "stderr",
     "output_type": "stream",
     "text": [
      "                                                                                                                                                                                                             "
     ]
    },
    {
     "name": "stdout",
     "output_type": "stream",
     "text": [
      "Epoch 33/50 | Train Loss: 0.1514 | Val Loss: 0.8158\n"
     ]
    },
    {
     "name": "stderr",
     "output_type": "stream",
     "text": [
      "                                                                                                                                                                                                             "
     ]
    },
    {
     "name": "stdout",
     "output_type": "stream",
     "text": [
      "Epoch 34/50 | Train Loss: 0.1444 | Val Loss: 0.8467\n"
     ]
    },
    {
     "name": "stderr",
     "output_type": "stream",
     "text": [
      "                                                                                                                                                                                                             "
     ]
    },
    {
     "name": "stdout",
     "output_type": "stream",
     "text": [
      "Epoch 35/50 | Train Loss: 0.1409 | Val Loss: 0.8477\n"
     ]
    },
    {
     "name": "stderr",
     "output_type": "stream",
     "text": [
      "                                                                                                                                                                                                             "
     ]
    },
    {
     "name": "stdout",
     "output_type": "stream",
     "text": [
      "Epoch 36/50 | Train Loss: 0.1398 | Val Loss: 0.8278\n"
     ]
    },
    {
     "name": "stderr",
     "output_type": "stream",
     "text": [
      "                                                                                                                                                                                                             "
     ]
    },
    {
     "name": "stdout",
     "output_type": "stream",
     "text": [
      "Epoch 37/50 | Train Loss: 0.1482 | Val Loss: 0.8346\n"
     ]
    },
    {
     "name": "stderr",
     "output_type": "stream",
     "text": [
      "                                                                                                                                                                                                             "
     ]
    },
    {
     "name": "stdout",
     "output_type": "stream",
     "text": [
      "Epoch 38/50 | Train Loss: 0.1424 | Val Loss: 0.8758\n"
     ]
    },
    {
     "name": "stderr",
     "output_type": "stream",
     "text": [
      "                                                                                                                                                                                                             "
     ]
    },
    {
     "name": "stdout",
     "output_type": "stream",
     "text": [
      "Epoch 39/50 | Train Loss: 0.1391 | Val Loss: 0.8635\n"
     ]
    },
    {
     "name": "stderr",
     "output_type": "stream",
     "text": [
      "                                                                                                                                                                                                             "
     ]
    },
    {
     "name": "stdout",
     "output_type": "stream",
     "text": [
      "Epoch 40/50 | Train Loss: 0.1334 | Val Loss: 0.8437\n"
     ]
    },
    {
     "name": "stderr",
     "output_type": "stream",
     "text": [
      "                                                                                                                                                                                                             "
     ]
    },
    {
     "name": "stdout",
     "output_type": "stream",
     "text": [
      "Epoch 41/50 | Train Loss: 0.1343 | Val Loss: 0.8482\n"
     ]
    },
    {
     "name": "stderr",
     "output_type": "stream",
     "text": [
      "                                                                                                                                                                                                             "
     ]
    },
    {
     "name": "stdout",
     "output_type": "stream",
     "text": [
      "Epoch 42/50 | Train Loss: 0.1339 | Val Loss: 0.8618\n"
     ]
    },
    {
     "name": "stderr",
     "output_type": "stream",
     "text": [
      "                                                                                                                                                                                                             "
     ]
    },
    {
     "name": "stdout",
     "output_type": "stream",
     "text": [
      "Epoch 43/50 | Train Loss: 0.1324 | Val Loss: 0.8607\n"
     ]
    },
    {
     "name": "stderr",
     "output_type": "stream",
     "text": [
      "                                                                                                                                                                                                             "
     ]
    },
    {
     "name": "stdout",
     "output_type": "stream",
     "text": [
      "Epoch 44/50 | Train Loss: 0.1336 | Val Loss: 0.8464\n"
     ]
    },
    {
     "name": "stderr",
     "output_type": "stream",
     "text": [
      "                                                                                                                                                                                                             "
     ]
    },
    {
     "name": "stdout",
     "output_type": "stream",
     "text": [
      "Epoch 45/50 | Train Loss: 0.1283 | Val Loss: 0.8573\n"
     ]
    },
    {
     "name": "stderr",
     "output_type": "stream",
     "text": [
      "                                                                                                                                                                                                             "
     ]
    },
    {
     "name": "stdout",
     "output_type": "stream",
     "text": [
      "Epoch 46/50 | Train Loss: 0.1309 | Val Loss: 0.8601\n"
     ]
    },
    {
     "name": "stderr",
     "output_type": "stream",
     "text": [
      "                                                                                                                                                                                                             "
     ]
    },
    {
     "name": "stdout",
     "output_type": "stream",
     "text": [
      "Epoch 47/50 | Train Loss: 0.1282 | Val Loss: 0.8422\n"
     ]
    },
    {
     "name": "stderr",
     "output_type": "stream",
     "text": [
      "                                                                                                                                                                                                             "
     ]
    },
    {
     "name": "stdout",
     "output_type": "stream",
     "text": [
      "Epoch 48/50 | Train Loss: 0.1295 | Val Loss: 0.8757\n"
     ]
    },
    {
     "name": "stderr",
     "output_type": "stream",
     "text": [
      "                                                                                                                                                                                                             "
     ]
    },
    {
     "name": "stdout",
     "output_type": "stream",
     "text": [
      "Epoch 49/50 | Train Loss: 0.1300 | Val Loss: 0.8611\n"
     ]
    },
    {
     "name": "stderr",
     "output_type": "stream",
     "text": [
      "                                                                                                                                                                                                             "
     ]
    },
    {
     "name": "stdout",
     "output_type": "stream",
     "text": [
      "Epoch 50/50 | Train Loss: 0.1271 | Val Loss: 0.8953\n"
     ]
    }
   ],
   "source": [
    "# Loop\n",
    "for epoch in range(start_epoch, EPOCHS):\n",
    "    train_loss = train(model, train_loader, optimizer, criterion, device)\n",
    "    val_loss = evaluate(model, val_loader, criterion, device)\n",
    "    scheduler.step(val_loss)\n",
    "    print(f\"Epoch {epoch+1}/{EPOCHS} | Train Loss: {train_loss:.4f} | Val Loss: {val_loss:.4f}\")\n",
    "\n",
    "    # Save every 5 epochs\n",
    "    if (epoch + 1) % 5 == 0:\n",
    "        torch.save({\n",
    "            'epoch': epoch,\n",
    "            'model_state_dict': model.state_dict(),\n",
    "            'optimizer_state_dict': optimizer.state_dict(),\n",
    "        }, f'checkpoint_epoch_{epoch+1}.pth')"
   ]
  },
  {
   "cell_type": "markdown",
   "id": "b1917673-296f-4fe4-a1f6-03ff9b142c25",
   "metadata": {
    "id": "b1917673-296f-4fe4-a1f6-03ff9b142c25"
   },
   "source": [
    "## Validation visualization"
   ]
  },
  {
   "cell_type": "code",
   "execution_count": null,
   "id": "b9fe35a2-9566-4a03-b6ba-7c1654fc042c",
   "metadata": {
    "id": "b9fe35a2-9566-4a03-b6ba-7c1654fc042c"
   },
   "outputs": [],
   "source": [
    "def convert_prediction_to_rgb(pred, color_map):\n",
    "    class_map = pred.argmax(dim=0).cpu().numpy()  # (H, W)\n",
    "    inverse_color_map = {v: k for k, v in color_map.items()}\n",
    "    h, w = class_map.shape\n",
    "    rgb = np.zeros((h, w, 3), dtype=np.uint8)\n",
    "    for class_idx, color in inverse_color_map.items():\n",
    "        rgb[class_map == class_idx] = color\n",
    "    return rgb"
   ]
  },
  {
   "cell_type": "code",
   "execution_count": null,
   "id": "af96c00b-d069-4cdb-beb1-c32d183b1e51",
   "metadata": {
    "id": "af96c00b-d069-4cdb-beb1-c32d183b1e51"
   },
   "outputs": [],
   "source": [
    "def visualize_sample_prediction(model, rgb_tensor, label_tensor, color_map, device):\n",
    "    image_tensor = rgb_tensor.unsqueeze(0).to(device)  # (1, 3, H, W)\n",
    "    rgb_image = image_tensor.squeeze()\n",
    "\n",
    "    model = model.to(device)\n",
    "    model.eval()\n",
    "\n",
    "    with torch.no_grad():\n",
    "        output = model(image_tensor)  # (1, 9, H, W)\n",
    "        output = output.squeeze(0).softmax(dim=0)  # (9, H, W)\n",
    "\n",
    "    pred_rgb = convert_prediction_to_rgb(output, color_map)\n",
    "\n",
    "    rgb_image = to_pil_image(rgb_image.cpu())\n",
    "    label_image = to_pil_image(label_tensor.cpu())\n",
    "\n",
    "    # Plot all\n",
    "    plt.figure(figsize=(15, 5))\n",
    "    plt.subplot(1, 3, 1)\n",
    "    plt.title(\"Input Image\")\n",
    "    plt.imshow(rgb_image)\n",
    "    plt.axis(\"off\")\n",
    "\n",
    "    plt.subplot(1, 3, 2)\n",
    "    plt.title(\"Ground Truth\")\n",
    "    plt.imshow(label_image)\n",
    "    plt.axis(\"off\")\n",
    "\n",
    "    plt.subplot(1, 3, 3)\n",
    "    plt.title(\"Model Prediction\")\n",
    "    plt.imshow(pred_rgb)\n",
    "    plt.axis(\"off\")\n",
    "\n",
    "    plt.show()"
   ]
  },
  {
   "cell_type": "code",
   "execution_count": null,
   "id": "4120794f-4b81-4606-b231-1a06a7cfed08",
   "metadata": {
    "id": "4120794f-4b81-4606-b231-1a06a7cfed08"
   },
   "outputs": [],
   "source": [
    "# if we want to check previous checkpoints with the same validation set\n",
    "\n",
    "checkpoint_vis = torch.load('checkpoint_epoch_15.pth')\n",
    "model_vis = DeepLabV3Lite().to(device)\n",
    "model_vis.load_state_dict(checkpoint_vis['model_state_dict'])\n",
    "model_vis.eval();"
   ]
  },
  {
   "cell_type": "code",
   "execution_count": null,
   "id": "18caa850-2ef2-43d1-8d1d-6ac09bb8132c",
   "metadata": {
    "id": "18caa850-2ef2-43d1-8d1d-6ac09bb8132c",
    "outputId": "74dd7d23-783d-45d0-e536-eb39eac0ffb3"
   },
   "outputs": [],
   "source": [
    "for rgb_batch, label_batch, _ in val_loader:\n",
    "    batch_size = rgb_batch.size(0)\n",
    "    for i in range(min(5, batch_size)):\n",
    "        rgb_tensor = rgb_batch[i]\n",
    "        label_tensor = label_batch[i]\n",
    "        visualize_sample_prediction(model_vis, rgb_tensor, label_tensor, color_map, device)\n",
    "    #break"
   ]
  }
 ],
 "metadata": {
  "accelerator": "GPU",
  "colab": {
   "gpuType": "T4",
   "provenance": []
  },
  "kernelspec": {
   "display_name": "Python 3 (ipykernel)",
   "language": "python",
   "name": "python3"
  },
  "language_info": {
   "codemirror_mode": {
    "name": "ipython",
    "version": 3
   },
   "file_extension": ".py",
   "mimetype": "text/x-python",
   "name": "python",
   "nbconvert_exporter": "python",
   "pygments_lexer": "ipython3",
   "version": "3.10.12"
  }
 },
 "nbformat": 4,
 "nbformat_minor": 5
}
