{
 "cells": [
  {
   "cell_type": "code",
   "execution_count": null,
   "id": "d72cb142",
   "metadata": {},
   "outputs": [],
   "source": [
    "from torch.utils.data import DataLoader, random_split\n",
    "from torchvision import transforms\n",
    "import torch\n",
    "from torch import nn, optim\n",
    "\n",
    "from model import CNN_Segmentation\n",
    "\n",
    "from utils import ImageSegmentationTrainingDataset"
   ]
  },
  {
   "cell_type": "markdown",
   "id": "e7834b8b",
   "metadata": {},
   "source": [
    "## Load dataset"
   ]
  },
  {
   "cell_type": "code",
   "execution_count": 18,
   "id": "99ebea34",
   "metadata": {},
   "outputs": [],
   "source": [
    "# Full dataset\n",
    "transform = transforms.Compose([\n",
    "    transforms.ToTensor(),\n",
    "])\n",
    "\n",
    "dataset = ImageSegmentationTrainingDataset(root_dir='train', transform=transform)\n",
    "dataloader = DataLoader(dataset, batch_size=16, shuffle=True)"
   ]
  },
  {
   "cell_type": "code",
   "execution_count": 19,
   "id": "00eb963a",
   "metadata": {},
   "outputs": [],
   "source": [
    "# Data split\n",
    "val_percent = 0.2\n",
    "val_size = int(len(dataset) * val_percent)\n",
    "train_size = len(dataset) - val_size\n",
    "train_dataset, val_dataset = random_split(dataset, [train_size, val_size])\n",
    "train_loader = DataLoader(train_dataset, batch_size=16, shuffle=True)\n",
    "val_loader = DataLoader(val_dataset, batch_size=16, shuffle=False)"
   ]
  },
  {
   "cell_type": "markdown",
   "id": "7c29691b",
   "metadata": {},
   "source": [
    "## Functions for training"
   ]
  },
  {
   "cell_type": "code",
   "execution_count": 21,
   "id": "15737d4d",
   "metadata": {},
   "outputs": [],
   "source": [
    "def train(model, dataloader, optimizer, criterion, device):\n",
    "    model.train()\n",
    "    running_loss = 0.0\n",
    "    for rgb, _, labels in dataloader:\n",
    "        rgb, labels = rgb.to(device), labels.to(device)\n",
    "\n",
    "        # (batch, class, H, W) → targets: (batch, H, W)\n",
    "        targets = labels.argmax(dim=1)\n",
    "\n",
    "        optimizer.zero_grad()\n",
    "        outputs = model(rgb)\n",
    "\n",
    "        loss = criterion(outputs, targets)\n",
    "        loss.backward()\n",
    "        optimizer.step()\n",
    "        running_loss += loss.item()\n",
    "\n",
    "    return running_loss / len(dataloader)"
   ]
  },
  {
   "cell_type": "code",
   "execution_count": 22,
   "id": "ddc3fadc",
   "metadata": {},
   "outputs": [],
   "source": [
    "def evaluate(model, dataloader, criterion, device):\n",
    "    model.eval()\n",
    "    total_loss = 0.0\n",
    "    with torch.no_grad():\n",
    "        for rgb, _, labels in dataloader: \n",
    "            rgb, labels = rgb.to(device), labels.to(device) #shape [16,3,544,1024],[16,9,544,1024] (one hot)\n",
    "            targets = labels.argmax(dim=1) #shape [16,544,1024] :\n",
    "            outputs = model(rgb)\n",
    "            loss = criterion(outputs, targets)\n",
    "            # shape [16, 544, 1024] vs [16, 9, 544, 1024] aka input [16, 9, 544, 1024] vs target [16, 544, 1024]\n",
    "            # normal for CE : \"Input (C), (C,N), (C,N,d_1,...,d_k)\" \"Target (), (N), (N,d_1,...,d_k)\" in the documentation\n",
    "            # CE needs class indices\n",
    "            total_loss += loss.item()\n",
    "\n",
    "    return total_loss / len(dataloader)"
   ]
  },
  {
   "cell_type": "markdown",
   "id": "0f3b92cd",
   "metadata": {},
   "source": [
    "## Loop"
   ]
  },
  {
   "cell_type": "code",
   "execution_count": null,
   "id": "548a6d4b",
   "metadata": {},
   "outputs": [],
   "source": [
    "# Hyperparameters\n",
    "EPOCHS = 2\n",
    "LR = 1e-3\n",
    "device = torch.device(\"cuda\" if torch.cuda.is_available() else \"cpu\")\n",
    "model = CNN_Segmentation().to(device)\n",
    "criterion = nn.CrossEntropyLoss()\n",
    "optimizer = optim.Adam(model.parameters(), lr=LR)"
   ]
  },
  {
   "cell_type": "code",
   "execution_count": 10,
   "id": "6baa9e82",
   "metadata": {},
   "outputs": [
    {
     "name": "stdout",
     "output_type": "stream",
     "text": [
      "torch.Size([16, 544, 1024])\n",
      "outputs torch.Size([16, 9, 544, 1024])\n",
      "torch.Size([16, 544, 1024])\n",
      "outputs torch.Size([16, 9, 544, 1024])\n",
      "torch.Size([16, 544, 1024])\n",
      "outputs torch.Size([16, 9, 544, 1024])\n",
      "torch.Size([16, 544, 1024])\n",
      "outputs torch.Size([16, 9, 544, 1024])\n",
      "torch.Size([16, 544, 1024])\n",
      "outputs torch.Size([16, 9, 544, 1024])\n",
      "torch.Size([16, 544, 1024])\n",
      "outputs torch.Size([16, 9, 544, 1024])\n",
      "torch.Size([16, 544, 1024])\n",
      "outputs torch.Size([16, 9, 544, 1024])\n",
      "torch.Size([16, 544, 1024])\n",
      "outputs torch.Size([16, 9, 544, 1024])\n",
      "torch.Size([16, 544, 1024])\n",
      "outputs torch.Size([16, 9, 544, 1024])\n",
      "torch.Size([16, 544, 1024])\n",
      "outputs torch.Size([16, 9, 544, 1024])\n",
      "torch.Size([16, 544, 1024])\n",
      "outputs torch.Size([16, 9, 544, 1024])\n",
      "torch.Size([10, 544, 1024])\n",
      "outputs torch.Size([10, 9, 544, 1024])\n",
      "Epoch 1/2 | Train Loss: 2.0543 | Val Loss: 1.9422\n",
      "torch.Size([16, 544, 1024])\n",
      "outputs torch.Size([16, 9, 544, 1024])\n",
      "torch.Size([16, 544, 1024])\n",
      "outputs torch.Size([16, 9, 544, 1024])\n",
      "torch.Size([16, 544, 1024])\n",
      "outputs torch.Size([16, 9, 544, 1024])\n",
      "torch.Size([16, 544, 1024])\n",
      "outputs torch.Size([16, 9, 544, 1024])\n",
      "torch.Size([16, 544, 1024])\n",
      "outputs torch.Size([16, 9, 544, 1024])\n",
      "torch.Size([16, 544, 1024])\n",
      "outputs torch.Size([16, 9, 544, 1024])\n",
      "torch.Size([16, 544, 1024])\n",
      "outputs torch.Size([16, 9, 544, 1024])\n",
      "torch.Size([16, 544, 1024])\n",
      "outputs torch.Size([16, 9, 544, 1024])\n",
      "torch.Size([16, 544, 1024])\n",
      "outputs torch.Size([16, 9, 544, 1024])\n",
      "torch.Size([16, 544, 1024])\n",
      "outputs torch.Size([16, 9, 544, 1024])\n",
      "torch.Size([16, 544, 1024])\n",
      "outputs torch.Size([16, 9, 544, 1024])\n",
      "torch.Size([10, 544, 1024])\n",
      "outputs torch.Size([10, 9, 544, 1024])\n",
      "Epoch 2/2 | Train Loss: 1.8328 | Val Loss: 1.7560\n"
     ]
    }
   ],
   "source": [
    "# Loop\n",
    "for epoch in range(EPOCHS):\n",
    "    train_loss = train(model, train_loader, optimizer, criterion, device)\n",
    "    val_loss = evaluate(model, val_loader, criterion, device)\n",
    "    print(f\"Epoch {epoch+1}/{EPOCHS} | Train Loss: {train_loss:.4f} | Val Loss: {val_loss:.4f}\")"
   ]
  },
  {
   "cell_type": "code",
   "execution_count": 11,
   "id": "b20af604",
   "metadata": {},
   "outputs": [],
   "source": [
    "# Saves\n",
    "torch.save(model.state_dict(), 'segmentation_model.pth')"
   ]
  }
 ],
 "metadata": {
  "kernelspec": {
   "display_name": "Python 3",
   "language": "python",
   "name": "python3"
  },
  "language_info": {
   "codemirror_mode": {
    "name": "ipython",
    "version": 3
   },
   "file_extension": ".py",
   "mimetype": "text/x-python",
   "name": "python",
   "nbconvert_exporter": "python",
   "pygments_lexer": "ipython3",
   "version": "3.10.12"
  }
 },
 "nbformat": 4,
 "nbformat_minor": 5
}
