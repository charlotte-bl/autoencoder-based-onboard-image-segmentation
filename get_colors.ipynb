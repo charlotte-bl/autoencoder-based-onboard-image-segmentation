{
 "cells": [
  {
   "cell_type": "code",
   "execution_count": 1,
   "id": "a974de0a",
   "metadata": {},
   "outputs": [],
   "source": [
    "from PIL import Image\n",
    "import numpy as np"
   ]
  },
  {
   "cell_type": "markdown",
   "id": "77fb0183",
   "metadata": {},
   "source": [
    "# File used to get the analyze the dataset and get every colors"
   ]
  },
  {
   "cell_type": "code",
   "execution_count": null,
   "id": "f96e4f13",
   "metadata": {},
   "outputs": [
    {
     "name": "stdout",
     "output_type": "stream",
     "text": [
      "Unique colors in label: [(40, 80, 0), (128, 255, 0), (178, 176, 153), (255, 0, 128), (255, 255, 255)]\n"
     ]
    }
   ],
   "source": [
    "#define color -> class index map\n",
    "#files used to have every colors : 0392 0246 0305\n",
    "\n",
    "def get_unique_colors(label_path):\n",
    "    label_img = Image.open(label_path).convert(\"RGB\")\n",
    "    label_np = np.array(label_img)\n",
    "    h, w, _ = label_np.shape\n",
    "\n",
    "    # Reshape to (N, 3) and find unique colors\n",
    "    unique_colors = np.unique(label_np.reshape(-1, 3), axis=0)\n",
    "    return [tuple(color) for color in unique_colors]\n",
    "\n",
    "label_colors = get_unique_colors(\"train/0305/labels.png\") #here change the number to have other colors\n",
    "print(\"Unique colors in label:\", label_colors)\n"
   ]
  }
 ],
 "metadata": {
  "kernelspec": {
   "display_name": "Python 3",
   "language": "python",
   "name": "python3"
  },
  "language_info": {
   "codemirror_mode": {
    "name": "ipython",
    "version": 3
   },
   "file_extension": ".py",
   "mimetype": "text/x-python",
   "name": "python",
   "nbconvert_exporter": "python",
   "pygments_lexer": "ipython3",
   "version": "3.10.12"
  }
 },
 "nbformat": 4,
 "nbformat_minor": 5
}
