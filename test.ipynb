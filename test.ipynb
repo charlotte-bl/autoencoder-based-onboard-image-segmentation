{
 "cells": [
  {
   "cell_type": "code",
   "execution_count": 2,
   "metadata": {
    "colab": {
     "base_uri": "https://localhost:8080/"
    },
    "executionInfo": {
     "elapsed": 2443,
     "status": "ok",
     "timestamp": 1748591523214,
     "user": {
      "displayName": "Diego GRAGNANIELLO",
      "userId": "02712514618197687193"
     },
     "user_tz": -120
    },
    "id": "0yDP3FjS5P-T",
    "outputId": "6e50f71f-63cc-4f2f-e46b-e49fa91b1355"
   },
   "outputs": [
    {
     "ename": "ModuleNotFoundError",
     "evalue": "No module named 'google.colab'",
     "output_type": "error",
     "traceback": [
      "\u001b[0;31m---------------------------------------------------------------------------\u001b[0m",
      "\u001b[0;31mModuleNotFoundError\u001b[0m                       Traceback (most recent call last)",
      "Cell \u001b[0;32mIn[2], line 1\u001b[0m\n\u001b[0;32m----> 1\u001b[0m \u001b[38;5;28;01mfrom\u001b[39;00m \u001b[38;5;21;01mgoogle\u001b[39;00m\u001b[38;5;21;01m.\u001b[39;00m\u001b[38;5;21;01mcolab\u001b[39;00m \u001b[38;5;28;01mimport\u001b[39;00m drive\n\u001b[1;32m      2\u001b[0m drive\u001b[38;5;241m.\u001b[39mmount(\u001b[38;5;124m'\u001b[39m\u001b[38;5;124m/content/drive\u001b[39m\u001b[38;5;124m'\u001b[39m)\n\u001b[1;32m      4\u001b[0m \u001b[38;5;28;01mimport\u001b[39;00m \u001b[38;5;21;01mos\u001b[39;00m\n",
      "\u001b[0;31mModuleNotFoundError\u001b[0m: No module named 'google.colab'"
     ]
    }
   ],
   "source": [
    "from google.colab import drive\n",
    "drive.mount('/content/drive')\n",
    "\n",
    "import os\n",
    "os.chdir(\"/content/drive/My Drive/Didattica/ML/exam_2024-2025/project_work_segmentazione_off-road/test\")"
   ]
  },
  {
   "cell_type": "markdown",
   "metadata": {
    "id": "fcROIMDgI9Hn"
   },
   "source": [
    "#IMPLEMENT HERE YOUR CODE"
   ]
  },
  {
   "cell_type": "code",
   "execution_count": null,
   "metadata": {},
   "outputs": [],
   "source": [
    "from torchvision import transforms\n",
    "import torch"
   ]
  },
  {
   "cell_type": "markdown",
   "metadata": {
    "id": "TTAQO9aPBJUZ"
   },
   "source": [
    "##IMPLEMENT HERE THE FUNCTION TO LOAD YOUR MODEL\n",
    "For example, here we use a single convolutional layer."
   ]
  },
  {
   "cell_type": "code",
   "execution_count": null,
   "metadata": {
    "executionInfo": {
     "elapsed": 7149,
     "status": "ok",
     "timestamp": 1748591530361,
     "user": {
      "displayName": "Diego GRAGNANIELLO",
      "userId": "02712514618197687193"
     },
     "user_tz": -120
    },
    "id": "9_xVMtGJ6NgC"
   },
   "outputs": [
    {
     "name": "stderr",
     "output_type": "stream",
     "text": [
      "/home/hellottie/.local/lib/python3.10/site-packages/torch/utils/_pytree.py:185: FutureWarning: optree is installed but the version is too old to support PyTorch Dynamo in C++ pytree. C++ pytree support is disabled. Please consider upgrading optree using `python3 -m pip install --upgrade 'optree>=0.13.0'`.\n",
      "  warnings.warn(\n"
     ]
    }
   ],
   "source": [
    "from model import CNN_Segmentation\n",
    "\n",
    "def load_model():\n",
    "  model_instance = CNN_Segmentation()\n",
    "  model_instance.load_state_dict(torch.load('segmentation_model.pth', map_location='cpu'))\n",
    "  model_instance.eval()  # set model to evaluation mode\n",
    "  return model_instance"
   ]
  },
  {
   "cell_type": "markdown",
   "metadata": {
    "id": "-7BM4PXsBFjH"
   },
   "source": [
    "##IMPLEMENT HERE YOUR PREDICT FUNCTION"
   ]
  },
  {
   "cell_type": "code",
   "execution_count": null,
   "metadata": {
    "executionInfo": {
     "elapsed": 40,
     "status": "ok",
     "timestamp": 1748591530404,
     "user": {
      "displayName": "Diego GRAGNANIELLO",
      "userId": "02712514618197687193"
     },
     "user_tz": -120
    },
    "id": "TtKO0n6r8JAz"
   },
   "outputs": [],
   "source": [
    "def predict(model, X):\n",
    "    # accept (3, H, W) or (1, 3, H, W), values in [0, 1]\n",
    "    # returns an image (3,H,W) that went through the model (with pixel segmentation)\n",
    "\n",
    "    device = torch.device(\"cuda\" if torch.cuda.is_available() else \"cpu\")\n",
    "    model = model.to(device)\n",
    "    model.eval()\n",
    "\n",
    "    # ensure dimension of the model (1, 3, H, W)\n",
    "    transform = transforms.Compose([\n",
    "        transforms.ToTensor(),  # Converts to (3, H, W), values in [0,1]\n",
    "    ])\n",
    "\n",
    "    image_tensor = transform(X).unsqueeze(0).to(device)  # (1, 3, H, W)\n",
    "\n",
    "    with torch.no_grad():\n",
    "        output = model(image_tensor)           # (1, 9, H, W)\n",
    "        predicted = output.argmax(dim=1)       # (1, H, W)\n",
    "        predicted = predicted.squeeze(0).cpu().numpy()  # (H, W) - class indices\n",
    "\n",
    "    return predicted"
   ]
  },
  {
   "cell_type": "markdown",
   "metadata": {
    "id": "Jdz_Q0lKApMW"
   },
   "source": [
    "#DO NOT MODIFY THE CODE BELOW!\n",
    "\n",
    "This is exactly the code we run for the final test.\n",
    "\n",
    "After implementing the previous functions, run this code to verify that it works"
   ]
  },
  {
   "cell_type": "code",
   "execution_count": 7,
   "metadata": {
    "colab": {
     "base_uri": "https://localhost:8080/"
    },
    "executionInfo": {
     "elapsed": 4520,
     "status": "ok",
     "timestamp": 1748591534949,
     "user": {
      "displayName": "Diego GRAGNANIELLO",
      "userId": "02712514618197687193"
     },
     "user_tz": -120
    },
    "id": "aqr86jEP54e-",
    "outputId": "069db564-94ee-4add-868d-536dc2dccd0b"
   },
   "outputs": [
    {
     "name": "stderr",
     "output_type": "stream",
     "text": [
      "Processing samples: 932it [06:20,  2.45it/s]"
     ]
    },
    {
     "name": "stdout",
     "output_type": "stream",
     "text": [
      "\n",
      "Final competition score: 0.0003467353041393963\n"
     ]
    },
    {
     "name": "stderr",
     "output_type": "stream",
     "text": [
      "\n"
     ]
    }
   ],
   "source": [
    "import os\n",
    "from PIL import Image\n",
    "import matplotlib.pyplot as plt\n",
    "import numpy as np\n",
    "from tqdm import tqdm\n",
    "\n",
    "# Metrics\n",
    "def compute_iou(mask1, mask2, label):\n",
    "  intersection = np.sum((mask1 == label) & (mask2 == label))\n",
    "  union = np.sum((mask1 == label) | (mask2 == label))\n",
    "  if union == 0:\n",
    "    return np.nan\n",
    "  return intersection / union\n",
    "def compute_all_iou(mask1, mask2, num_labels=8):\n",
    "  iou_scores = np.zeros((num_labels))\n",
    "  for label in range(num_labels):\n",
    "    iou = compute_iou(mask1, mask2, label+1) # we skip the background label\n",
    "    iou_scores[label] = iou\n",
    "  return iou_scores\n",
    "\n",
    "\n",
    "# Run YOUR LOAD_MODEL FUNCTION\n",
    "model = load_model()\n",
    "\n",
    "# Main loop\n",
    "test_dir = \"./train\"  # we will change this path with that of the private test set directory\n",
    "samples = os.listdir(test_dir)\n",
    "IOUs = np.zeros((len(samples), 8))\n",
    "verbose = False\n",
    "\n",
    "for i, subdir in tqdm(enumerate(samples), desc=\"Processing samples\"):\n",
    "    subdir_path = os.path.join(test_dir, subdir)\n",
    "\n",
    "    if os.path.isdir(subdir_path):\n",
    "        # Get the data paths\n",
    "        rgb_path = os.path.join(subdir_path, 'rgb.jpg')\n",
    "        labels_path = os.path.join(subdir_path, 'labels.png')\n",
    "\n",
    "        if os.path.exists(rgb_path) and os.path.exists(labels_path):\n",
    "            if verbose:\n",
    "                print(f\"Processing subdirectory: {subdir}\")\n",
    "\n",
    "            try:  # ATTENTION: any error occurring in this try-catch means that the corresponding IOUs are evaluated as ZERO\n",
    "\n",
    "                # Open images\n",
    "                rgb_image = Image.open(rgb_path)\n",
    "                rgb_array = np.asarray(rgb_image).copy()\n",
    "                labels_image = Image.open(labels_path).copy()\n",
    "                labels_array = np.asarray(labels_image)\n",
    "                if verbose:\n",
    "                    print(f\"  Loaded {rgb_path} and {labels_path}\")\n",
    "\n",
    "                # Run YOUR PREDICT FUNCTION\n",
    "                predicted_labels_array = predict(model, rgb_array)\n",
    "\n",
    "                # Evaluate the IOU metric\n",
    "                IOUs[i,:] = compute_all_iou(labels_array, predicted_labels_array)\n",
    "\n",
    "                if verbose:\n",
    "                    labels_vals = np.unique(np.asarray(labels_image))\n",
    "                    print(f\"  Unique labels values: {labels_vals}\")\n",
    "                    predicted_labels_vals = np.unique(np.asarray(predicted_labels_array))\n",
    "                    print(f\"  Unique predicted labels values: {predicted_labels_vals}\")\n",
    "\n",
    "                    plt.subplot(1, 3, 1)\n",
    "                    plt.imshow(rgb_image)\n",
    "                    plt.subplot(1, 3, 2)\n",
    "                    plt.imshow(labels_image)\n",
    "                    plt.subplot(1, 3, 3)\n",
    "                    plt.imshow(predicted_labels_array)\n",
    "                    plt.show()\n",
    "\n",
    "                rgb_image.close()\n",
    "                labels_image.close()\n",
    "\n",
    "            except FileNotFoundError:\n",
    "                print(f\"  Error: Could not find image files in {subdir_path}\")\n",
    "            except Exception as e:\n",
    "                print(f\"  Error processing images in {subdir_path}: {e}\")\n",
    "        else:\n",
    "            print(f\"  Skipping subdirectory {subdir}: rgb.jpg or labels.png not found.\")\n",
    "\n",
    "score = np.nanmean(IOUs)\n",
    "print(f\"\\nFinal competition score: {score}\")"
   ]
  },
  {
   "cell_type": "markdown",
   "metadata": {
    "id": "BGahGEPvLcX7"
   },
   "source": [
    "More information useful for"
   ]
  },
  {
   "cell_type": "code",
   "execution_count": 8,
   "metadata": {
    "colab": {
     "base_uri": "https://localhost:8080/"
    },
    "executionInfo": {
     "elapsed": 30,
     "status": "ok",
     "timestamp": 1748591534981,
     "user": {
      "displayName": "Diego GRAGNANIELLO",
      "userId": "02712514618197687193"
     },
     "user_tz": -120
    },
    "id": "ZS1At0nkINS3",
    "outputId": "3239702c-fdf4-4649-bda4-a32d4acb73f8"
   },
   "outputs": [
    {
     "name": "stdout",
     "output_type": "stream",
     "text": [
      "All IOUs:\n",
      "[[ 0.  0.  0. ...  0.  0.  0.]\n",
      " [ 0.  0. nan ... nan  0.  0.]\n",
      " [nan  0.  0. ...  0.  0.  0.]\n",
      " ...\n",
      " [nan  0.  0. ... nan  0.  0.]\n",
      " [nan  0.  0. ... nan  0.  0.]\n",
      " [ 0.  0. nan ... nan  0.  0.]]\n",
      "Average IOUs for each:\n",
      "- class: [0.    0.    0.    0.002 0.    0.    0.    0.   ]\n",
      "- image: [0.    0.    0.    0.    0.    0.    0.    0.    0.    0.    0.    0.\n",
      " 0.015 0.    0.    0.    0.    0.    0.    0.    0.    0.    0.    0.\n",
      " 0.    0.04  0.    0.    0.    0.    0.    0.    0.    0.    0.    0.\n",
      " 0.    0.    0.    0.    0.    0.    0.    0.    0.    0.    0.    0.\n",
      " 0.    0.    0.    0.    0.    0.    0.    0.    0.    0.    0.    0.\n",
      " 0.021 0.    0.    0.    0.    0.    0.    0.    0.    0.    0.    0.\n",
      " 0.    0.    0.    0.    0.    0.    0.    0.    0.    0.    0.    0.\n",
      " 0.    0.    0.    0.    0.    0.    0.    0.    0.    0.    0.    0.\n",
      " 0.    0.    0.    0.    0.    0.    0.    0.    0.    0.    0.    0.\n",
      " 0.    0.    0.    0.    0.    0.    0.    0.    0.    0.    0.    0.\n",
      " 0.    0.    0.    0.    0.    0.    0.    0.    0.    0.002 0.    0.\n",
      " 0.    0.    0.    0.    0.    0.    0.    0.01  0.    0.    0.    0.\n",
      " 0.    0.    0.    0.    0.    0.    0.    0.03  0.    0.    0.    0.\n",
      " 0.    0.    0.    0.    0.    0.    0.    0.    0.    0.    0.    0.\n",
      " 0.    0.    0.    0.    0.    0.    0.    0.    0.    0.    0.    0.\n",
      " 0.    0.    0.    0.    0.    0.    0.021 0.    0.    0.    0.    0.\n",
      " 0.    0.    0.    0.    0.    0.    0.    0.    0.    0.    0.    0.\n",
      " 0.    0.    0.    0.    0.    0.    0.    0.    0.    0.    0.    0.\n",
      " 0.    0.    0.    0.    0.    0.    0.    0.    0.    0.    0.    0.\n",
      " 0.    0.    0.    0.    0.    0.    0.    0.    0.    0.    0.    0.\n",
      " 0.    0.    0.    0.001 0.    0.    0.    0.    0.    0.    0.    0.\n",
      " 0.    0.    0.    0.    0.    0.008 0.    0.    0.    0.    0.    0.\n",
      " 0.    0.001 0.    0.    0.    0.    0.    0.    0.    0.    0.    0.\n",
      " 0.    0.    0.    0.    0.    0.    0.    0.    0.    0.    0.    0.\n",
      " 0.    0.    0.    0.    0.    0.    0.    0.    0.    0.    0.    0.\n",
      " 0.    0.    0.    0.    0.    0.    0.    0.    0.    0.    0.    0.\n",
      " 0.    0.    0.    0.    0.    0.    0.    0.    0.    0.    0.    0.\n",
      " 0.    0.    0.    0.    0.    0.    0.    0.    0.    0.    0.    0.\n",
      " 0.    0.    0.    0.    0.    0.    0.    0.    0.    0.    0.    0.\n",
      " 0.    0.    0.    0.    0.    0.    0.    0.    0.    0.    0.    0.\n",
      " 0.    0.    0.    0.    0.    0.    0.    0.    0.    0.    0.    0.\n",
      " 0.    0.    0.    0.    0.    0.    0.    0.    0.    0.    0.    0.\n",
      " 0.    0.    0.    0.    0.    0.    0.    0.    0.    0.    0.    0.\n",
      " 0.    0.    0.    0.    0.    0.    0.    0.    0.    0.    0.    0.\n",
      " 0.    0.    0.    0.    0.    0.    0.    0.    0.    0.    0.    0.\n",
      " 0.    0.    0.    0.    0.    0.    0.    0.007 0.    0.    0.    0.\n",
      " 0.    0.    0.    0.    0.    0.    0.    0.    0.    0.    0.    0.\n",
      " 0.    0.    0.    0.    0.    0.    0.    0.    0.004 0.    0.    0.\n",
      " 0.    0.    0.    0.    0.007 0.    0.    0.    0.    0.    0.    0.\n",
      " 0.    0.    0.    0.    0.    0.    0.    0.    0.    0.    0.    0.\n",
      " 0.    0.    0.    0.    0.    0.    0.    0.    0.    0.    0.    0.\n",
      " 0.    0.    0.    0.    0.004 0.    0.    0.    0.    0.    0.    0.\n",
      " 0.    0.    0.    0.    0.    0.    0.    0.    0.    0.    0.    0.\n",
      " 0.    0.    0.    0.    0.    0.    0.    0.    0.    0.    0.    0.001\n",
      " 0.    0.    0.    0.    0.    0.    0.    0.    0.    0.    0.002 0.\n",
      " 0.    0.    0.    0.001 0.    0.    0.    0.    0.    0.    0.    0.\n",
      " 0.    0.    0.    0.    0.    0.    0.    0.    0.    0.    0.    0.\n",
      " 0.    0.    0.    0.    0.    0.    0.    0.    0.    0.    0.    0.\n",
      " 0.029 0.    0.    0.    0.    0.    0.    0.    0.    0.    0.    0.\n",
      " 0.    0.    0.    0.    0.    0.    0.    0.    0.    0.    0.    0.\n",
      " 0.    0.    0.    0.    0.006 0.    0.    0.    0.    0.    0.    0.\n",
      " 0.    0.    0.    0.    0.    0.    0.    0.    0.    0.    0.    0.\n",
      " 0.    0.    0.021 0.    0.    0.    0.    0.    0.    0.    0.    0.\n",
      " 0.    0.    0.    0.    0.    0.    0.    0.013 0.    0.    0.    0.\n",
      " 0.    0.    0.    0.    0.    0.    0.    0.049 0.    0.    0.    0.\n",
      " 0.    0.    0.    0.    0.    0.    0.    0.022 0.    0.    0.    0.\n",
      " 0.    0.    0.    0.    0.    0.    0.    0.    0.    0.    0.    0.\n",
      " 0.    0.    0.    0.    0.    0.    0.    0.    0.    0.    0.    0.\n",
      " 0.    0.    0.    0.    0.    0.    0.    0.    0.    0.    0.    0.\n",
      " 0.    0.    0.    0.    0.    0.    0.    0.    0.    0.    0.    0.\n",
      " 0.    0.    0.    0.    0.    0.002 0.    0.    0.    0.    0.    0.\n",
      " 0.    0.    0.    0.    0.    0.    0.    0.    0.    0.    0.    0.009\n",
      " 0.    0.    0.    0.    0.    0.    0.    0.    0.    0.    0.    0.\n",
      " 0.    0.    0.    0.    0.    0.    0.    0.    0.    0.    0.    0.\n",
      " 0.    0.    0.    0.    0.    0.    0.    0.    0.004 0.    0.    0.\n",
      " 0.    0.    0.    0.    0.    0.    0.    0.    0.    0.    0.    0.\n",
      " 0.    0.    0.    0.    0.    0.    0.003 0.    0.    0.    0.    0.\n",
      " 0.    0.    0.    0.    0.    0.    0.    0.    0.    0.    0.    0.\n",
      " 0.    0.    0.    0.    0.    0.    0.001 0.    0.    0.    0.    0.\n",
      " 0.    0.    0.    0.    0.    0.    0.    0.    0.    0.    0.    0.\n",
      " 0.    0.    0.006 0.    0.    0.    0.    0.    0.    0.    0.    0.\n",
      " 0.    0.    0.    0.    0.    0.    0.    0.    0.018 0.    0.001 0.\n",
      " 0.    0.    0.    0.    0.    0.    0.    0.    0.    0.    0.    0.\n",
      " 0.    0.    0.    0.    0.    0.    0.    0.    0.    0.    0.    0.\n",
      " 0.    0.    0.    0.    0.    0.    0.    0.    0.    0.    0.    0.\n",
      " 0.    0.    0.    0.    0.    0.    0.    0.    0.    0.    0.    0.\n",
      " 0.    0.    0.    0.    0.    0.    0.    0.    0.    0.    0.    0.\n",
      " 0.    0.    0.    0.    0.    0.    0.    0.   ]\n"
     ]
    }
   ],
   "source": [
    "import numpy as np\n",
    "np.set_printoptions(precision=3, suppress=True)\n",
    "print(f\"All IOUs:\\n{IOUs}\")\n",
    "print(\"Average IOUs for each:\")\n",
    "print(f\"- class: {np.nanmean(IOUs, 0)}\")\n",
    "print(f\"- image: {np.nanmean(IOUs, 1)}\")"
   ]
  }
 ],
 "metadata": {
  "colab": {
   "authorship_tag": "ABX9TyO8w+1bVpBk0LBjX7SdQqVL",
   "provenance": []
  },
  "kernelspec": {
   "display_name": "Python 3",
   "language": "python",
   "name": "python3"
  },
  "language_info": {
   "codemirror_mode": {
    "name": "ipython",
    "version": 3
   },
   "file_extension": ".py",
   "mimetype": "text/x-python",
   "name": "python",
   "nbconvert_exporter": "python",
   "pygments_lexer": "ipython3",
   "version": "3.10.12"
  }
 },
 "nbformat": 4,
 "nbformat_minor": 4
}
